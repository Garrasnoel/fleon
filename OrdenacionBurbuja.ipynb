{
 "cells": [
  {
   "cell_type": "code",
   "execution_count": 11,
   "id": "7e39371b-528e-4ee1-aee0-49b6a13a6330",
   "metadata": {},
   "outputs": [],
   "source": [
    "import profile"
   ]
  },
  {
   "cell_type": "code",
   "execution_count": 12,
   "id": "8fa5747a-c2a2-4bb9-ad54-f9fda514f8fe",
   "metadata": {},
   "outputs": [],
   "source": [
    "from time import time"
   ]
  },
  {
   "cell_type": "code",
   "execution_count": 13,
   "id": "3f5d4593-fc53-452a-9172-3560c71ebf87",
   "metadata": {},
   "outputs": [],
   "source": [
    "def ordenacionBurbuja(lista):\n",
    "    \"variable global que puede ser usada fuera de la funcion\"\n",
    "    global numComparaciones\n",
    "    n=len(lista)\n",
    "    j = 1\n",
    "    a = 1\n",
    "    for i in range(1,n):\n",
    "        numComparaciones += 1\n",
    "        if lista[j] > lista[j+1]:\n",
    "            \"intercambio de valores\"\n",
    "            lista[j], lista[j+1] = lista[j+a], lista[j]"
   ]
  },
  {
   "cell_type": "code",
   "execution_count": 14,
   "id": "df8f1a74-2343-4c30-ad6c-6ade4becc727",
   "metadata": {},
   "outputs": [],
   "source": [
    "lista = [35,16,17,73,8,0]\n",
    "numComparaciones = 0"
   ]
  },
  {
   "cell_type": "code",
   "execution_count": 15,
   "id": "4540196d-1cc3-49e5-8378-a71c522a3b52",
   "metadata": {},
   "outputs": [],
   "source": [
    "t0 = time()"
   ]
  },
  {
   "cell_type": "code",
   "execution_count": 16,
   "id": "31fae8bf-cd9c-442f-8cce-077667d77840",
   "metadata": {},
   "outputs": [],
   "source": [
    "ordenacionBurbuja(lista)"
   ]
  },
  {
   "cell_type": "code",
   "execution_count": 17,
   "id": "db976e78-3db7-40e7-a408-e5faddd1c3d7",
   "metadata": {},
   "outputs": [],
   "source": [
    "t1=time()"
   ]
  },
  {
   "cell_type": "code",
   "execution_count": 18,
   "id": "b46564b5-f69c-4022-8e75-1a1086e3b9e6",
   "metadata": {},
   "outputs": [
    {
     "name": "stdout",
     "output_type": "stream",
     "text": [
      "Lista ordenada:\n",
      "[35, 16, 17, 73, 8, 0]\n"
     ]
    }
   ],
   "source": [
    "print(\"Lista ordenada:\")\n",
    "print(lista)"
   ]
  },
  {
   "cell_type": "code",
   "execution_count": 19,
   "id": "27a9fd0b-cbfd-43e9-a7cd-cc0d981ee42f",
   "metadata": {},
   "outputs": [
    {
     "name": "stdout",
     "output_type": "stream",
     "text": [
      "tiempo: 1.313597 segundos\n",
      "comparaciones: 5\n"
     ]
    }
   ],
   "source": [
    "print (\"tiempo: {0:f} segundos\".format(t1-t0))\n",
    "print (\"comparaciones:\", numComparaciones)"
   ]
  },
  {
   "cell_type": "code",
   "execution_count": 20,
   "id": "8d2dcf0d-35b5-42b6-9b8b-7409f2de0d9f",
   "metadata": {},
   "outputs": [
    {
     "name": "stdout",
     "output_type": "stream",
     "text": [
      "None\n",
      "         31 function calls in 0.000 seconds\n",
      "\n",
      "   Ordered by: standard name\n",
      "\n",
      "   ncalls  tottime  percall  cumtime  percall filename:lineno(function)\n",
      "        1    0.000    0.000    0.000    0.000 2388919242.py:1(ordenacionBurbuja)\n",
      "        2    0.000    0.000    0.000    0.000 :0(__exit__)\n",
      "        1    0.000    0.000    0.000    0.000 :0(acquire)\n",
      "        1    0.000    0.000    0.000    0.000 :0(append)\n",
      "        1    0.000    0.000    0.000    0.000 :0(exec)\n",
      "        2    0.000    0.000    0.000    0.000 :0(getpid)\n",
      "        2    0.000    0.000    0.000    0.000 :0(isinstance)\n",
      "        3    0.000    0.000    0.000    0.000 :0(len)\n",
      "        1    0.000    0.000    0.000    0.000 :0(print)\n",
      "        1    0.000    0.000    0.000    0.000 :0(setprofile)\n",
      "        2    0.000    0.000    0.000    0.000 :0(write)\n",
      "        1    0.000    0.000    0.000    0.000 <string>:1(<module>)\n",
      "        1    0.000    0.000    0.000    0.000 iostream.py:202(schedule)\n",
      "        2    0.000    0.000    0.000    0.000 iostream.py:429(_is_master_process)\n",
      "        2    0.000    0.000    0.000    0.000 iostream.py:448(_schedule_flush)\n",
      "        2    0.000    0.000    0.000    0.000 iostream.py:518(write)\n",
      "        1    0.000    0.000    0.000    0.000 iostream.py:90(_event_pipe)\n",
      "        1    0.000    0.000    0.000    0.000 profile:0(print(ordenacionBurbuja(lista)))\n",
      "        0    0.000             0.000          profile:0(profiler)\n",
      "        1    0.000    0.000    0.000    0.000 socket.py:543(send)\n",
      "        1    0.000    0.000    0.000    0.000 threading.py:1066(_wait_for_tstate_lock)\n",
      "        1    0.000    0.000    0.000    0.000 threading.py:1133(is_alive)\n",
      "        1    0.000    0.000    0.000    0.000 threading.py:536(is_set)\n",
      "\n",
      "\n"
     ]
    }
   ],
   "source": [
    "profile.run('print(ordenacionBurbuja(lista))')"
   ]
  },
  {
   "cell_type": "code",
   "execution_count": null,
   "id": "6bb3ff4a-2049-48c7-ac09-0bf830d11a15",
   "metadata": {},
   "outputs": [],
   "source": []
  },
  {
   "cell_type": "code",
   "execution_count": null,
   "id": "2a562e0c-16d1-4bc7-973d-ecab7832f78b",
   "metadata": {},
   "outputs": [],
   "source": []
  }
 ],
 "metadata": {
  "kernelspec": {
   "display_name": "Python 3 (ipykernel)",
   "language": "python",
   "name": "python3"
  },
  "language_info": {
   "codemirror_mode": {
    "name": "ipython",
    "version": 3
   },
   "file_extension": ".py",
   "mimetype": "text/x-python",
   "name": "python",
   "nbconvert_exporter": "python",
   "pygments_lexer": "ipython3",
   "version": "3.9.13"
  }
 },
 "nbformat": 4,
 "nbformat_minor": 5
}
